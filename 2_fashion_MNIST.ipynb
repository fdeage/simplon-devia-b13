{
 "cells": [
  {
   "cell_type": "code",
   "execution_count": 39,
   "id": "2ecb5575-9e72-4824-bb8b-a3191b284270",
   "metadata": {},
   "outputs": [],
   "source": [
    "from tensorflow.keras import layers, models, optimizers\n",
    "from tensorflow.keras.utils import to_categorical\n",
    "from tensorflow.keras.datasets import fashion_mnist\n",
    "\n",
    "import matplotlib.pyplot as plt"
   ]
  },
  {
   "cell_type": "markdown",
   "id": "e992cafe-ce66-4e6a-888c-dd15f6c04669",
   "metadata": {},
   "source": [
    "This model uses the Fashion MNIST, which is defined in this paper:\n",
    "Xiao, Fashion-MNIST: a Novel Image Dataset for Benchmarking Machine Learning Algorithms (2017)\n",
    "(link)[https://arxiv.org/abs/1708.07747]"
   ]
  },
  {
   "cell_type": "code",
   "execution_count": 40,
   "id": "a88c52c3-ba1e-4e5c-89fe-2c7f82277ef9",
   "metadata": {},
   "outputs": [
    {
     "data": {
      "text/plain": [
       "((60000, 28, 28), (60000,), (10000, 28, 28), (10000,))"
      ]
     },
     "execution_count": 40,
     "metadata": {},
     "output_type": "execute_result"
    }
   ],
   "source": [
    "# Download the training data from Keras\n",
    "(train_images, train_labels), (test_images, test_labels) = fashion_mnist.load_data()\n",
    "\n",
    "train_images.shape, train_labels.shape, test_images.shape, test_labels.shape"
   ]
  },
  {
   "cell_type": "code",
   "execution_count": 41,
   "id": "fbd8273c-a9f8-46b3-853d-474fab0a25e4",
   "metadata": {},
   "outputs": [],
   "source": [
    "# Let's copy the labels defined in the paper:\n",
    "fashion_labels = [\n",
    "    \"T-Shirt/Top\", \n",
    "    \"Trouser\", \n",
    "    \"Pullover\", \n",
    "    \"Dress\", \n",
    "    \"Coat\", \n",
    "    \"Sandals\", \n",
    "    \"Shirt\", \n",
    "    \"Sneaker\", \n",
    "    \"Bag\", \n",
    "    \"Ankle boots\"\n",
    "]"
   ]
  },
  {
   "cell_type": "code",
   "execution_count": 42,
   "id": "d425ce78-de32-4ceb-9252-d3f00f362473",
   "metadata": {},
   "outputs": [
    {
     "data": {
      "text/plain": [
       "(28, 28)"
      ]
     },
     "execution_count": 42,
     "metadata": {},
     "output_type": "execute_result"
    }
   ],
   "source": [
    "# Let's see the shape of an image:\n",
    "train_images[327].shape"
   ]
  },
  {
   "cell_type": "code",
   "execution_count": 43,
   "id": "ca107d7c-fd83-4c78-a2b0-19f8d2a0f120",
   "metadata": {},
   "outputs": [
    {
     "data": {
      "image/png": "[encoded data removed]",
      "text/plain": [
       "<Figure size 640x480 with 1 Axes>"
      ]
     },
     "metadata": {},
     "output_type": "display_data"
    }
   ],
   "source": [
    "# Now let's plot the 327th sample to see what the raw image look like\n",
    "plt.plot()\n",
    "plt.title(f\"Label: {fashion_labels[train_labels[327]]}\")\n",
    "plt.imshow((train_images[327]), cmap=plt.get_cmap('gray'))\n",
    "plt.show()"
   ]
  },
  {
   "cell_type": "code",
   "execution_count": 44,
   "id": "6b53067c-01ef-4ba3-9fb7-5f590e1b43f0",
   "metadata": {},
   "outputs": [
    {
     "data": {
      "text/plain": [
       "'Dress'"
      ]
     },
     "execution_count": 44,
     "metadata": {},
     "output_type": "execute_result"
    }
   ],
   "source": [
    "# Let's verify it matches the 327th label!\n",
    "fashion_labels[train_labels[327]]"
   ]
  },
  {
   "cell_type": "code",
   "execution_count": 45,
   "id": "79362705-5b71-4053-9d9c-9a53cbd60d15",
   "metadata": {},
   "outputs": [
    {
     "data": {
      "text/plain": [
       "(0, 255)"
      ]
     },
     "execution_count": 45,
     "metadata": {},
     "output_type": "execute_result"
    }
   ],
   "source": [
    "# Pixel values are black & white, and between 0 and 255\n",
    "train_images.min(), train_images.max()"
   ]
  },
  {
   "cell_type": "code",
   "execution_count": 46,
   "id": "0592d84a-d76a-44c7-b4aa-58cd7e749bf0",
   "metadata": {},
   "outputs": [
    {
     "data": {
      "text/plain": [
       "(0.0, 1.0)"
      ]
     },
     "execution_count": 46,
     "metadata": {},
     "output_type": "execute_result"
    }
   ],
   "source": [
    "# Let's normalize their values to be between 0 and 1\n",
    "train_images, test_images = train_images / 255, test_images / 255\n",
    "# Checking normalization: we should be between 0 and 1\n",
    "train_images.min(), train_images.max()"
   ]
  },
  {
   "cell_type": "code",
   "execution_count": 47,
   "id": "8d03ae04-2e5d-43cd-8029-bce673bcf6d9",
   "metadata": {},
   "outputs": [
    {
     "data": {
      "text/plain": [
       "(60000, 10000)"
      ]
     },
     "execution_count": 47,
     "metadata": {},
     "output_type": "execute_result"
    }
   ],
   "source": [
    "train_n = train_images.shape[0]\n",
    "test_n = test_images.shape[0]\n",
    "train_n, test_n"
   ]
  },
  {
   "cell_type": "code",
   "execution_count": 48,
   "id": "2167e285-6655-4c13-a8df-4eb10d268fb6",
   "metadata": {},
   "outputs": [
    {
     "data": {
      "text/plain": [
       "((60000, 28, 28, 1), (10000, 28, 28, 1))"
      ]
     },
     "execution_count": 48,
     "metadata": {},
     "output_type": "execute_result"
    }
   ],
   "source": [
    "train_images = train_images.reshape((train_n, 28, 28, 1))\n",
    "test_images = test_images.reshape((test_n, 28, 28, 1))\n",
    "train_images.shape, test_images.shape"
   ]
  },
  {
   "cell_type": "code",
   "execution_count": 49,
   "id": "42b3d55c-124c-497c-b31f-9108bf68820d",
   "metadata": {},
   "outputs": [
    {
     "data": {
      "text/plain": [
       "(10,\n",
       " array([0, 1, 2, 3, 4, 5, 6, 7, 8, 9], dtype=uint8),\n",
       " array([6000, 6000, 6000, 6000, 6000, 6000, 6000, 6000, 6000, 6000]))"
      ]
     },
     "execution_count": 49,
     "metadata": {},
     "output_type": "execute_result"
    }
   ],
   "source": [
    "# Let's find unique values in the labels\n",
    "import numpy as np\n",
    "\n",
    "values, counts = np.unique(train_labels, return_counts=True)\n",
    "nb_values = len(values)\n",
    "nb_values, values, counts"
   ]
  },
  {
   "cell_type": "code",
   "execution_count": 50,
   "id": "c791b259-e328-49d9-8081-0d69a510c6ff",
   "metadata": {},
   "outputs": [],
   "source": [
    "# One-hot encoding of the labels (5 -> [0, 0, 0, 0, 0, 1, ...])\n",
    "# cf. https://en.wikipedia.org/wiki/One-hot\n",
    "train_labels = to_categorical(train_labels)\n",
    "test_labels = to_categorical(test_labels)"
   ]
  },
  {
   "cell_type": "code",
   "execution_count": 51,
   "id": "01ce9e3a-1a0b-4e11-91d2-166cfe805be9",
   "metadata": {},
   "outputs": [
    {
     "data": {
      "text/plain": [
       "array([[0., 0., 0., ..., 0., 0., 1.],\n",
       "       [1., 0., 0., ..., 0., 0., 0.],\n",
       "       [1., 0., 0., ..., 0., 0., 0.],\n",
       "       ...,\n",
       "       [0., 0., 0., ..., 0., 0., 0.],\n",
       "       [1., 0., 0., ..., 0., 0., 0.],\n",
       "       [0., 0., 0., ..., 0., 0., 0.]], dtype=float32)"
      ]
     },
     "execution_count": 51,
     "metadata": {},
     "output_type": "execute_result"
    }
   ],
   "source": [
    "# Let's verify that labels are the proper shape: a list of list\n",
    "train_labels"
   ]
  },
  {
   "cell_type": "code",
   "execution_count": 52,
   "id": "ad4501db-57ad-4c7d-928f-70f8c27678df",
   "metadata": {},
   "outputs": [
    {
     "data": {
      "text/plain": [
       "(60000, 10)"
      ]
     },
     "execution_count": 52,
     "metadata": {},
     "output_type": "execute_result"
    }
   ],
   "source": [
    "train_labels.shape"
   ]
  },
  {
   "cell_type": "code",
   "execution_count": 62,
   "id": "ada8c170-48db-46d2-9fed-081dd15871ed",
   "metadata": {},
   "outputs": [],
   "source": [
    "def define_conv_model(conv_size=32):\n",
    "    model = models.Sequential()\n",
    "\n",
    "    model.add(layers.Conv2D(conv_size, (3, 3), activation='relu'))\n",
    "    model.add(layers.BatchNormalization())\n",
    "    model.add(layers.MaxPooling2D((2, 2)))\n",
    "\n",
    "    model.add(layers.Conv2D(conv_size * 2, (3, 3), activation='relu'))\n",
    "    model.add(layers.BatchNormalization())\n",
    "    model.add(layers.MaxPooling2D((2, 2)))\n",
    "\n",
    "    model.add(layers.Dropout(0.25))\n",
    "    \n",
    "    model.add(layers.Conv2D(conv_size * 4, (3, 3), activation='relu'))\n",
    "    model.add(layers.BatchNormalization())\n",
    "    model.add(layers.MaxPooling2D((2, 2)))\n",
    "    \n",
    "    model.add(layers.Flatten())\n",
    "    model.add(layers.Dense(nb_values, activation='softmax'))\n",
    "\n",
    "    return model"
   ]
  },
  {
   "cell_type": "code",
   "execution_count": 63,
   "id": "0dd97beb-4174-4b03-8968-efdb4cd7ad49",
   "metadata": {},
   "outputs": [],
   "source": [
    "# Notes:\n",
    "#   - the 'sparse_categorical_crossentropy' loss is only for labels using integers, not for encoded labels like ours\n",
    "#   - we specify the optimizer instead of 'adam' to be able to change the learning rate\n",
    "#   - no need to return anything, the model is modified \"in-place\" \n",
    "def compile_model(model, learning_rate=0.003):\n",
    "    model.compile(optimizer=optimizers.Adam(learning_rate=learning_rate), loss='categorical_crossentropy', metrics=['accuracy'])"
   ]
  },
  {
   "cell_type": "code",
   "execution_count": 64,
   "id": "42cc02c0-ea27-4c88-8037-5af2960faca2",
   "metadata": {},
   "outputs": [],
   "source": [
    "# We parameterize the training so that parameters can be logged in MLFlow\n",
    "def train_model(model, train_images, train_labels, epochs=3, batch_size=64, validation_split=0.2):\n",
    "    model.fit(train_images, train_labels, epochs=epochs, batch_size=batch_size, validation_split=validation_split)"
   ]
  },
  {
   "cell_type": "code",
   "execution_count": 65,
   "id": "e3b368dc-92d5-44e6-a2fa-b7d69530f424",
   "metadata": {},
   "outputs": [
    {
     "data": {
      "text/plain": [
       "<Experiment: artifact_location='mlflow-artifacts:/170645947334896060', creation_time=1709492309773, experiment_id='170645947334896060', last_update_time=1709492309773, lifecycle_stage='active', name='Brief 13 - 2. Fashion MNIST', tags={}>"
      ]
     },
     "execution_count": 65,
     "metadata": {},
     "output_type": "execute_result"
    }
   ],
   "source": [
    "import mlflow\n",
    "\n",
    "mlflow.set_tracking_uri(\"http://127.0.0.1:5000\")\n",
    "mlflow.set_experiment(\"Brief 13 - 2. Fashion MNIST\")"
   ]
  },
  {
   "cell_type": "code",
   "execution_count": 66,
   "id": "d35accfd-0d6e-40aa-86c4-895a93832a04",
   "metadata": {},
   "outputs": [
    {
     "name": "stdout",
     "output_type": "stream",
     "text": [
      "Epoch 1/3\n",
      "750/750 [==============================] - 16s 20ms/step - loss: 0.5310 - accuracy: 0.8077 - val_loss: 0.4407 - val_accuracy: 0.8371\n",
      "Epoch 2/3\n",
      "750/750 [==============================] - 17s 23ms/step - loss: 0.4079 - accuracy: 0.8513 - val_loss: 0.3806 - val_accuracy: 0.8633\n",
      "Epoch 3/3\n",
      "750/750 [==============================] - 16s 21ms/step - loss: 0.3714 - accuracy: 0.8623 - val_loss: 0.4770 - val_accuracy: 0.8127\n",
      "313/313 [==============================] - 2s 5ms/step - loss: 0.4976 - accuracy: 0.7992\n",
      "Loss: 0.4975699186325073, accuracy: 0.7991999983787537\n"
     ]
    }
   ],
   "source": [
    "import time\n",
    "\n",
    "with mlflow.start_run():\n",
    "    conv_size = 16\n",
    "    learning_rate = 0.004\n",
    "    epochs = 3\n",
    "    batch_size = 64\n",
    "\n",
    "    mlflow.log_param(\"conv_size\", conv_size)\n",
    "    mlflow.log_param(\"learning_rate\", learning_rate)\n",
    "    mlflow.log_param(\"epochs\", epochs)\n",
    "    mlflow.log_param(\"batch_size\", batch_size)\n",
    "    \n",
    "    model = define_conv_model(conv_size)\n",
    "    compile_model(model, learning_rate)\n",
    "    \n",
    "    # We time only time the training part\n",
    "    start_t = time.time()    \n",
    "    train_model(model, train_images, train_labels, epochs, batch_size)\n",
    "    end_t = time.time()\n",
    "\n",
    "    # Evaluate the model on the test set\n",
    "    loss, acc = model.evaluate(test_images, test_labels)\n",
    "    print(f'Loss: {loss}, accuracy: {acc}')\n",
    "    \n",
    "    mlflow.log_metric(\"loss\", loss)\n",
    "    mlflow.log_metric(\"accuracy\", acc)\n",
    "    mlflow.log_metric(\"training_duration\", end_t - start_t)  \n",
    "\n",
    "    # mlflow.tensorflow.save_model(model, \"model_MNIST\")\n",
    "    # mlflow.log_artifacts(\"model_MNIST\", artifact_path=\"models\")"
   ]
  },
  {
   "cell_type": "code",
   "execution_count": 67,
   "id": "8cabf218-c8c0-4256-9a77-44971289c71c",
   "metadata": {},
   "outputs": [
    {
     "name": "stdout",
     "output_type": "stream",
     "text": [
      "Model: \"sequential_5\"\n",
      "_________________________________________________________________\n",
      " Layer (type)                Output Shape              Param #   \n",
      "=================================================================\n",
      " conv2d_12 (Conv2D)          (None, 26, 26, 16)        160       \n",
      "                                                                 \n",
      " batch_normalization_12 (Ba  (None, 26, 26, 16)        64        \n",
      " tchNormalization)                                               \n",
      "                                                                 \n",
      " max_pooling2d_12 (MaxPooli  (None, 13, 13, 16)        0         \n",
      " ng2D)                                                           \n",
      "                                                                 \n",
      " conv2d_13 (Conv2D)          (None, 11, 11, 32)        4640      \n",
      "                                                                 \n",
      " batch_normalization_13 (Ba  (None, 11, 11, 32)        128       \n",
      " tchNormalization)                                               \n",
      "                                                                 \n",
      " max_pooling2d_13 (MaxPooli  (None, 5, 5, 32)          0         \n",
      " ng2D)                                                           \n",
      "                                                                 \n",
      " dropout_2 (Dropout)         (None, 5, 5, 32)          0         \n",
      "                                                                 \n",
      " conv2d_14 (Conv2D)          (None, 3, 3, 64)          18496     \n",
      "                                                                 \n",
      " batch_normalization_14 (Ba  (None, 3, 3, 64)          256       \n",
      " tchNormalization)                                               \n",
      "                                                                 \n",
      " max_pooling2d_14 (MaxPooli  (None, 1, 1, 64)          0         \n",
      " ng2D)                                                           \n",
      "                                                                 \n",
      " flatten_5 (Flatten)         (None, 64)                0         \n",
      "                                                                 \n",
      " dense_5 (Dense)             (None, 10)                650       \n",
      "                                                                 \n",
      "=================================================================\n",
      "Total params: 24394 (95.29 KB)\n",
      "Trainable params: 24170 (94.41 KB)\n",
      "Non-trainable params: 224 (896.00 Byte)\n",
      "_________________________________________________________________\n"
     ]
    }
   ],
   "source": [
    "model.summary()"
   ]
  },
  {
   "cell_type": "code",
   "execution_count": null,
   "id": "f92a599a-d0ae-4651-aa3f-c8d81c18434e",
   "metadata": {},
   "outputs": [],
   "source": []
  }
 ],
 "metadata": {
  "kernelspec": {
   "display_name": "Python 3 (ipykernel)",
   "language": "python",
   "name": "python3"
  },
  "language_info": {
   "codemirror_mode": {
    "name": "ipython",
    "version": 3
   },
   "file_extension": ".py",
   "mimetype": "text/x-python",
   "name": "python",
   "nbconvert_exporter": "python",
   "pygments_lexer": "ipython3",
   "version": "3.10.6"
  }
 },
 "nbformat": 4,
 "nbformat_minor": 5
}
