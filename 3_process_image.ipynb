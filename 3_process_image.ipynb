{
 "cells": [
  {
   "cell_type": "code",
   "execution_count": 2,
   "id": "28fc4585-2d68-4656-bfbf-c6dfe4f8a5ab",
   "metadata": {},
   "outputs": [],
   "source": [
    "import os\n",
    "import cv2\n",
    "import numpy as np\n",
    "import matplotlib.pyplot as plt"
   ]
  },
  {
   "cell_type": "code",
   "execution_count": 4,
   "id": "f1c86bd0-d4cf-4788-8bb8-2ebb4f1e037b",
   "metadata": {},
   "outputs": [
    {
     "data": {
      "text/plain": [
       "(['webcam_3.webp',\n",
       "  'webcam_9a.webp',\n",
       "  'webcam_2.webp',\n",
       "  'webcam_5.webp',\n",
       "  'webcam_4c.webp',\n",
       "  'webcam_8a.webp',\n",
       "  'webcam_8b.webp',\n",
       "  'webcam_4a.webp',\n",
       "  'webcam_7.webp',\n",
       "  'webcam_4b.png',\n",
       "  'webcam_6.webp',\n",
       "  'webcam_8c.webp',\n",
       "  'webcam_9b.webp',\n",
       "  'webcam_1.webp',\n",
       "  'webcam_0.webp'],\n",
       " ['drawing_1.png',\n",
       "  'drawing_0.png',\n",
       "  'drawing_2.png',\n",
       "  'drawing_3.png',\n",
       "  'drawing_7.png',\n",
       "  'drawing_6.png',\n",
       "  'drawing_4.png',\n",
       "  'drawing_5.png',\n",
       "  'drawing_8.png',\n",
       "  'drawing_9.png',\n",
       "  'drawing_9b.png'])"
      ]
     },
     "execution_count": 4,
     "metadata": {},
     "output_type": "execute_result"
    }
   ],
   "source": [
    "# Let's define paths and everything\n",
    "webcam_path = '../data/webcam'\n",
    "drawing_path = '../data/drawing'\n",
    "\n",
    "webcam_pics = os.listdir(webcam_path)\n",
    "drawing_pics = os.listdir(drawing_path)\n",
    "\n",
    "webcam_pics, drawing_pics"
   ]
  },
  {
   "cell_type": "code",
   "execution_count": 3,
   "id": "0755fe19-1dd0-4229-94d6-5ac2871c5106",
   "metadata": {},
   "outputs": [
    {
     "data": {
      "text/plain": [
       "[3, 9, 2, 5, 4, 8, 8, 4, 7, 4, 6, 8, 9, 1, 0]"
      ]
     },
     "execution_count": 3,
     "metadata": {},
     "output_type": "execute_result"
    }
   ],
   "source": [
    "# First, extract labels based on the digit in the filename (using a \"REGEX\")\n",
    "\n",
    "import re\n",
    "webcam_labels = [int(re.search(r'\\d', w).group()) for w in webcam_pics]\n",
    "webcam_labels"
   ]
  },
  {
   "cell_type": "code",
   "execution_count": 4,
   "id": "e3cfea89-db81-41f0-87aa-c505ea88f793",
   "metadata": {},
   "outputs": [
    {
     "data": {
      "text/plain": [
       "[1, 0, 2, 3, 7, 6, 4, 5, 8, 9, 9]"
      ]
     },
     "execution_count": 4,
     "metadata": {},
     "output_type": "execute_result"
    }
   ],
   "source": [
    "drawing_labels = [int(re.search(r'\\d', w).group()) for w in drawing_pics]\n",
    "drawing_labels"
   ]
  },
  {
   "cell_type": "markdown",
   "id": "474ff737-d7f7-422a-a3b3-7528c8960165",
   "metadata": {},
   "source": [
    "## I. Webcam images"
   ]
  },
  {
   "cell_type": "code",
   "execution_count": 49,
   "id": "730e638a-725e-4c03-9bc3-169bf4bf7777",
   "metadata": {},
   "outputs": [],
   "source": [
    "# from PIL import ImageOps\n",
    "\n",
    "def preprocess_webcam_image(image_path):\n",
    "    img = cv2.imread(image_path, cv2.IMREAD_GRAYSCALE)\n",
    "    img = cv2.resize(img, (28, 28))\n",
    "    \n",
    "    ret, thresh1 = cv2.threshold(img, 127, 255, cv2.THRESH_BINARY)\n",
    "    \n",
    "    # We need to invert the colors, because the original is white text on black background\n",
    "    img = cv2.bitwise_not(img)\n",
    "    \n",
    "    img = np.where(img < 150, 0, 255)\n",
    "    img = img / 255.0\n",
    "\n",
    "    return img"
   ]
  },
  {
   "cell_type": "code",
   "execution_count": 50,
   "id": "9dadb1c2-9b03-4011-80f7-f272ec44a596",
   "metadata": {},
   "outputs": [
    {
     "data": {
      "text/plain": [
       "'../data/webcam/webcam_3.webp'"
      ]
     },
     "execution_count": 50,
     "metadata": {},
     "output_type": "execute_result"
    }
   ],
   "source": [
    "# Let's check the webcam image path\n",
    "os.path.join(webcam_path, webcam_pics[0])"
   ]
  },
  {
   "cell_type": "code",
   "execution_count": 51,
   "id": "ad26a147-04dc-4835-8f5e-2d865050e2c5",
   "metadata": {},
   "outputs": [
    {
     "data": {
      "text/plain": [
       "(15, 28, 28)"
      ]
     },
     "execution_count": 51,
     "metadata": {},
     "output_type": "execute_result"
    }
   ],
   "source": [
    "# Create a list of processed webcam images\n",
    "processed_webcam_images = []\n",
    "\n",
    "for p in webcam_pics:\n",
    "    full_path = os.path.join(webcam_path, p)\n",
    "    processed_webcam_images.append(preprocess_webcam_image(full_path))\n",
    "\n",
    "# We create an 3D-array from a list of 2D arrays\n",
    "webcam_images = np.array(processed_webcam_images)\n",
    "webcam_images.shape"
   ]
  },
  {
   "cell_type": "markdown",
   "id": "5d49a2c1-9238-400a-8620-d13c046c4117",
   "metadata": {},
   "source": [
    "Now let's see an image:"
   ]
  },
  {
   "cell_type": "code",
   "execution_count": 52,
   "id": "d9adfb30-a370-4b2f-8051-5e8c9952c087",
   "metadata": {},
   "outputs": [
    {
     "data": {
      "image/png": "[encoded data removed]",
      "text/plain": [
       "<Figure size 640x480 with 1 Axes>"
      ]
     },
     "metadata": {},
     "output_type": "display_data"
    }
   ],
   "source": [
    "plt.plot()\n",
    "plt.imshow(processed_webcam_images[0], cmap=plt.get_cmap('gray'))\n",
    "plt.show()"
   ]
  },
  {
   "cell_type": "code",
   "execution_count": 53,
   "id": "255ca3bf-601c-4035-85ee-c1516c81c53c",
   "metadata": {},
   "outputs": [
    {
     "data": {
      "text/plain": [
       "(15, 28, 28, 1)"
      ]
     },
     "execution_count": 53,
     "metadata": {},
     "output_type": "execute_result"
    }
   ],
   "source": [
    "# We need to reshape our tensor to a 4D-array (because that's the format the model accepts)\n",
    "nb_images = webcam_images.shape[0]\n",
    "webcam_images = webcam_images.reshape((nb_images, 28, 28, 1))\n",
    "webcam_images.shape"
   ]
  },
  {
   "cell_type": "markdown",
   "id": "639f21a8-5827-407a-b483-57ad9794f43f",
   "metadata": {},
   "source": [
    "## II. Drawing images"
   ]
  },
  {
   "cell_type": "code",
   "execution_count": 54,
   "id": "6592ba77-e0bb-4827-ab80-e6cbd868168d",
   "metadata": {},
   "outputs": [],
   "source": [
    "def preprocess_drawing_image(image_path):\n",
    "    img = cv2.imread(image_path, cv2.IMREAD_GRAYSCALE)\n",
    "    # We also invert the colors\n",
    "    img = cv2.bitwise_not(img)\n",
    "    img = cv2.resize(img, (28, 28))\n",
    "    img = img / 255.0\n",
    "    \n",
    "    return img"
   ]
  },
  {
   "cell_type": "code",
   "execution_count": 55,
   "id": "4083bba4-f2b0-4d60-9240-1e146d5a677f",
   "metadata": {},
   "outputs": [
    {
     "data": {
      "text/plain": [
       "(11, 28, 28)"
      ]
     },
     "execution_count": 65,
     "metadata": {},
     "output_type": "execute_result"
    }
   ],
   "source": [
    "processed_drawing_images = []\n",
    "\n",
    "for p in drawing_pics:\n",
    "    full_path = os.path.join(drawing_path, p)\n",
    "    processed_drawing_images.append(preprocess_drawing_image(full_path))\n",
    "\n",
    "drawing_images = np.array(processed_drawing_images)\n",
    "drawing_images.shape"
   ]
  },
  {
   "cell_type": "code",
   "execution_count": 56,
   "id": "50b44137-be75-4b21-9c8c-e92d102204f4",
   "metadata": {},
   "outputs": [
    {
     "data": {
      "image/png": "[encoded data removed]",
      "text/plain": [
       "<Figure size 640x480 with 1 Axes>"
      ]
     },
     "metadata": {},
     "output_type": "display_data"
    }
   ],
   "source": [
    "plt.plot()\n",
    "plt.imshow(processed_drawing_images[10], cmap=plt.get_cmap('gray'))\n",
    "# plt.imshow(processed_drawing_images[0])\n",
    "plt.show()"
   ]
  },
  {
   "cell_type": "code",
   "execution_count": 57,
   "id": "37058699-ecb7-46d5-83a3-24fa97d9b023",
   "metadata": {},
   "outputs": [
    {
     "data": {
      "text/plain": [
       "(11, 28, 28, 1)"
      ]
     },
     "execution_count": 57,
     "metadata": {},
     "output_type": "execute_result"
    }
   ],
   "source": [
    "# Reshape\n",
    "nb_images = drawing_images.shape[0]\n",
    "drawing_images = drawing_images.reshape((nb_images, 28, 28, 1))\n",
    "drawing_images.shape"
   ]
  },
  {
   "cell_type": "markdown",
   "id": "661f2b29-92a4-4624-bc97-102a0829719e",
   "metadata": {},
   "source": [
    "## III. Predictions & comparison"
   ]
  },
  {
   "cell_type": "code",
   "execution_count": 58,
   "id": "c21a14d2-df9a-4fdb-b82d-6bbf2aeb3dee",
   "metadata": {},
   "outputs": [],
   "source": [
    "# Now we can load the model from I to predict our pictures' labels\n",
    "from tensorflow.keras.models import load_model\n",
    "model = load_model('model_mnist.keras')"
   ]
  },
  {
   "cell_type": "markdown",
   "id": "ef7862d3-ec43-4a6b-8bd0-2411b7ee2011",
   "metadata": {},
   "source": [
    "### III.a. Predict webcam"
   ]
  },
  {
   "cell_type": "code",
   "execution_count": 59,
   "id": "f62efebf-c137-464a-b807-157025324e42",
   "metadata": {},
   "outputs": [
    {
     "name": "stdout",
     "output_type": "stream",
     "text": [
      "1/1 [==============================] - 0s 66ms/step\n"
     ]
    },
    {
     "data": {
      "text/plain": [
       "array([[6.63196370e-02, 2.55962415e-03, 2.15527341e-01, 4.30282159e-03,\n",
       "        8.34917277e-03, 4.59568173e-01, 5.48366318e-03, 1.78737238e-01,\n",
       "        3.30181705e-04, 5.88220581e-02],\n",
       "       [1.29782711e-04, 1.72749779e-07, 2.13403993e-07, 3.21355510e-05,\n",
       "        1.11655533e-01, 9.77026224e-02, 2.92502256e-04, 2.02492829e-05,\n",
       "        7.88091481e-01, 2.07527238e-03],\n",
       "       [1.91229868e-14, 2.25318036e-05, 9.99976814e-01, 5.84518546e-07,\n",
       "        1.13386060e-13, 9.42516030e-12, 3.02187528e-13, 1.45950652e-09,\n",
       "        2.21701679e-09, 9.81286840e-12],\n",
       "       [3.56615419e-05, 2.88524939e-06, 1.38632461e-01, 3.24226334e-03,\n",
       "        2.90817302e-03, 2.35913292e-01, 1.13332098e-05, 6.19110823e-01,\n",
       "        2.79038545e-07, 1.42924910e-04],\n",
       "       [7.71072905e-07, 4.25761755e-06, 9.83313099e-02, 7.12060323e-03,\n",
       "        8.55709553e-01, 1.86221453e-03, 3.03100422e-02, 4.83487856e-05,\n",
       "        6.51142513e-03, 1.01493948e-04],\n",
       "       [9.36308324e-01, 1.36856499e-07, 5.01029829e-10, 6.58270153e-07,\n",
       "        8.60934204e-04, 3.32903094e-03, 1.09936409e-04, 6.79324658e-05,\n",
       "        5.93069270e-02, 1.61901717e-05],\n",
       "       [5.44048334e-03, 1.07972061e-04, 6.43557370e-01, 2.22318713e-02,\n",
       "        1.64623886e-01, 1.18009984e-01, 3.84442993e-02, 7.33541232e-03,\n",
       "        1.03259408e-04, 1.45478771e-04],\n",
       "       [1.74599339e-03, 7.03885376e-01, 1.00724280e-01, 8.43609869e-03,\n",
       "        9.18181788e-04, 5.83236441e-02, 1.73973967e-03, 1.20246612e-01,\n",
       "        3.38060418e-05, 3.94638535e-03],\n",
       "       [1.74599339e-03, 7.03885376e-01, 1.00724280e-01, 8.43609869e-03,\n",
       "        9.18181788e-04, 5.83236441e-02, 1.73973967e-03, 1.20246612e-01,\n",
       "        3.38060418e-05, 3.94638535e-03],\n",
       "       [1.85694716e-06, 1.54526312e-08, 3.14858113e-08, 2.00512059e-05,\n",
       "        7.87941309e-11, 9.99973655e-01, 2.35931657e-06, 2.67957656e-08,\n",
       "        3.52085863e-07, 1.71986699e-06],\n",
       "       [2.34962497e-02, 5.05318642e-01, 1.22372776e-01, 4.26039239e-03,\n",
       "        1.20668068e-04, 3.20186526e-01, 8.66752700e-04, 1.98232885e-02,\n",
       "        6.46452827e-05, 3.49010318e-03],\n",
       "       [2.13603489e-02, 1.42551422e-01, 1.68268293e-01, 2.89788633e-03,\n",
       "        1.72864296e-03, 3.40256125e-01, 3.96059733e-03, 2.96847284e-01,\n",
       "        5.05383214e-05, 2.20788103e-02],\n",
       "       [1.60032287e-04, 3.70824682e-06, 5.02838811e-05, 9.15132914e-05,\n",
       "        2.16415265e-06, 9.97698724e-01, 8.81679298e-04, 8.89553758e-06,\n",
       "        3.35930563e-05, 1.06936379e-03],\n",
       "       [3.65347997e-03, 1.30595360e-03, 2.12175772e-01, 2.63785981e-02,\n",
       "        3.88345914e-03, 1.84994966e-01, 2.39718647e-05, 4.87929910e-01,\n",
       "        8.76219856e-05, 7.95662329e-02],\n",
       "       [7.34025525e-06, 2.80814734e-03, 9.97179151e-01, 1.86819989e-07,\n",
       "        1.41957128e-06, 1.51355312e-06, 1.21375479e-06, 5.63068795e-07,\n",
       "        1.74614563e-08, 4.10440975e-07]], dtype=float32)"
      ]
     },
     "execution_count": 59,
     "metadata": {},
     "output_type": "execute_result"
    }
   ],
   "source": [
    "webcam_predictions = model.predict(webcam_images)\n",
    "webcam_predictions"
   ]
  },
  {
   "cell_type": "code",
   "execution_count": 60,
   "id": "50161a85-f38f-41f2-9835-e92e808d0bb0",
   "metadata": {},
   "outputs": [
    {
     "data": {
      "text/plain": [
       "[5, 8, 2, 7, 4, 0, 2, 1, 1, 5, 1, 5, 5, 7, 2]"
      ]
     },
     "execution_count": 60,
     "metadata": {},
     "output_type": "execute_result"
    }
   ],
   "source": [
    "# Apply np.argmax() for each digit to keep the highest prediction\n",
    "predicted_digits = [np.argmax(pred) for pred in webcam_predictions]\n",
    "predicted_digits"
   ]
  },
  {
   "cell_type": "code",
   "execution_count": 61,
   "id": "74996594-b9b2-4738-8687-297f4c3d08b9",
   "metadata": {},
   "outputs": [
    {
     "data": {
      "text/plain": [
       "[3, 9, 2, 5, 4, 8, 8, 4, 7, 4, 6, 8, 9, 1, 0]"
      ]
     },
     "execution_count": 61,
     "metadata": {},
     "output_type": "execute_result"
    }
   ],
   "source": [
    "# As a reminder, here are the real labels:\n",
    "webcam_labels"
   ]
  },
  {
   "cell_type": "code",
   "execution_count": 68,
   "id": "63e09f4e-bb30-4992-866c-e5176593e6ff",
   "metadata": {},
   "outputs": [
    {
     "data": {
      "image/png": "[encoded data removed]",
      "text/plain": [
       "<Figure size 640x480 with 2 Axes>"
      ]
     },
     "metadata": {},
     "output_type": "display_data"
    }
   ],
   "source": [
    "from sklearn.metrics import confusion_matrix\n",
    "import seaborn as sns\n",
    "import matplotlib.pyplot as plt\n",
    "cm = confusion_matrix(webcam_labels, predicted_digits)\n",
    "sns.heatmap(cm, annot=True, fmt=\"d\", cmap=\"Blues\", xticklabels=[\"Predicted 0\", \"Predicted 1\"], yticklabels=[\"Actual 0\", \"Actual 1\"])\n",
    "plt.xlabel(\"Predicted Label\")\n",
    "plt.ylabel(\"Actual Label\")\n",
    "plt.title(\"Confusion Matrix\")\n",
    "plt.show()"
   ]
  },
  {
   "cell_type": "code",
   "execution_count": 62,
   "id": "ee987864-ba58-49d8-b7be-e07dbbf3543c",
   "metadata": {},
   "outputs": [
    {
     "data": {
      "text/plain": [
       "[False,\n",
       " False,\n",
       " True,\n",
       " False,\n",
       " True,\n",
       " False,\n",
       " False,\n",
       " False,\n",
       " False,\n",
       " False,\n",
       " False,\n",
       " False,\n",
       " False,\n",
       " False,\n",
       " False]"
      ]
     },
     "execution_count": 62,
     "metadata": {},
     "output_type": "execute_result"
    }
   ],
   "source": [
    "# Let's compare that:\n",
    "comparison = [elem1 == elem2 for elem1, elem2 in zip(webcam_labels, predicted_digits)]\n",
    "comparison"
   ]
  },
  {
   "cell_type": "code",
   "execution_count": 63,
   "id": "7d4642fe-cf56-4490-ae8a-64b15fbd9550",
   "metadata": {},
   "outputs": [
    {
     "data": {
      "text/plain": [
       "'Ratio: 14% success'"
      ]
     },
     "execution_count": 63,
     "metadata": {},
     "output_type": "execute_result"
    }
   ],
   "source": [
    "import math\n",
    "\n",
    "ratio = comparison.count(True)/ len(comparison)\n",
    "f\"Ratio: {math.ceil(100 * ratio)}% success\""
   ]
  },
  {
   "cell_type": "markdown",
   "id": "056777be-d95d-42a0-82e4-cfd78b4159ff",
   "metadata": {},
   "source": [
    "This is a terrible ratio, barely better than chance! Let's see if we have a better luck with drawings..."
   ]
  },
  {
   "cell_type": "markdown",
   "id": "c462a356-d9b2-4a80-bbbb-e88389516efa",
   "metadata": {},
   "source": [
    "### III.b. Predict drawings"
   ]
  },
  {
   "cell_type": "code",
   "execution_count": 20,
   "id": "ba45a9ee-7abf-4ea6-9db7-a61008939344",
   "metadata": {},
   "outputs": [
    {
     "name": "stdout",
     "output_type": "stream",
     "text": [
      "1/1 [==============================] - 0s 23ms/step\n"
     ]
    },
    {
     "data": {
      "text/plain": [
       "array([[6.8876879e-08, 2.9861748e-01, 6.6134780e-05, 1.3850247e-05,\n",
       "        6.5216035e-01, 2.1950605e-04, 9.3472527e-09, 4.7642533e-02,\n",
       "        1.5602971e-04, 1.1240435e-03],\n",
       "       [4.9965143e-01, 2.2715311e-07, 2.5016256e-03, 2.4242692e-03,\n",
       "        1.1256210e-04, 3.1610564e-03, 2.4287446e-01, 2.4802043e-07,\n",
       "        2.4925511e-01, 1.8970199e-05],\n",
       "       [1.3754226e-07, 2.2355426e-08, 9.9999887e-01, 4.7616449e-08,\n",
       "        2.3747096e-14, 4.2063126e-09, 2.4282477e-07, 1.4914285e-13,\n",
       "        5.9550740e-07, 2.3089965e-09],\n",
       "       [4.0682326e-11, 1.6677891e-10, 9.7353677e-07, 9.6786314e-01,\n",
       "        2.8056271e-10, 3.2117683e-02, 1.6309754e-08, 1.5022719e-09,\n",
       "        1.6033047e-05, 1.9385295e-06],\n",
       "       [7.2443788e-07, 6.1885854e-05, 9.9945939e-01, 2.3246579e-05,\n",
       "        1.4845142e-07, 4.4102702e-10, 7.1951799e-06, 2.8533785e-04,\n",
       "        1.6118468e-04, 1.0263115e-06],\n",
       "       [5.8765824e-08, 7.6765191e-12, 2.4855188e-03, 7.6475817e-01,\n",
       "        5.9337046e-13, 5.9877499e-03, 4.0190035e-04, 4.1458338e-12,\n",
       "        2.2636659e-01, 2.0134205e-08],\n",
       "       [6.0168377e-09, 1.2364798e-07, 5.7646492e-08, 1.8867502e-05,\n",
       "        8.3387971e-01, 1.6591887e-01, 7.8227567e-05, 9.8658216e-05,\n",
       "        4.2007605e-06, 1.1764893e-06],\n",
       "       [1.3961800e-10, 2.4206728e-15, 9.1552582e-10, 1.2431201e-06,\n",
       "        4.7085418e-15, 9.9999326e-01, 5.4613211e-06, 3.0162374e-12,\n",
       "        4.1315090e-08, 4.5780348e-11],\n",
       "       [2.0263008e-15, 1.3818743e-16, 1.5018827e-01, 4.4395420e-01,\n",
       "        1.2796967e-07, 3.2504314e-08, 8.2718100e-14, 3.6755064e-13,\n",
       "        4.0585729e-01, 5.9785272e-08],\n",
       "       [1.8895803e-12, 4.8026086e-15, 6.2205832e-09, 5.4506671e-02,\n",
       "        1.0154848e-08, 1.3844946e-06, 2.4523911e-14, 7.9645716e-08,\n",
       "        9.4548416e-01, 7.6899751e-06],\n",
       "       [3.3911107e-12, 2.9556900e-14, 3.0350731e-05, 4.5906954e-02,\n",
       "        7.0236111e-10, 8.6416915e-04, 1.1517787e-10, 1.5130673e-09,\n",
       "        6.1572976e-02, 8.9162558e-01]], dtype=float32)"
      ]
     },
     "execution_count": 20,
     "metadata": {},
     "output_type": "execute_result"
    }
   ],
   "source": [
    "drawing_predictions = model.predict(drawing_images)\n",
    "drawing_predictions"
   ]
  },
  {
   "cell_type": "code",
   "execution_count": 21,
   "id": "1ecca8ae-c676-411a-91f8-b586816c66c6",
   "metadata": {},
   "outputs": [
    {
     "data": {
      "text/plain": [
       "[4, 0, 2, 3, 2, 3, 4, 5, 3, 8, 9]"
      ]
     },
     "execution_count": 21,
     "metadata": {},
     "output_type": "execute_result"
    }
   ],
   "source": [
    "predicted_digits = [np.argmax(pred) for pred in drawing_predictions]\n",
    "predicted_digits"
   ]
  },
  {
   "cell_type": "code",
   "execution_count": 22,
   "id": "c43575e0-117d-4649-b41f-9cecabf068c0",
   "metadata": {},
   "outputs": [
    {
     "data": {
      "text/plain": [
       "[1, 0, 2, 3, 7, 6, 4, 5, 8, 9, 9]"
      ]
     },
     "execution_count": 22,
     "metadata": {},
     "output_type": "execute_result"
    }
   ],
   "source": [
    "# The real labels:\n",
    "drawing_labels"
   ]
  },
  {
   "cell_type": "code",
   "execution_count": 23,
   "id": "7fb11858-e851-4fc5-9c8f-c6e38d8affda",
   "metadata": {},
   "outputs": [
    {
     "data": {
      "text/plain": [
       "[False, True, True, True, False, False, True, True, False, False, True]"
      ]
     },
     "execution_count": 23,
     "metadata": {},
     "output_type": "execute_result"
    }
   ],
   "source": [
    "# Let's compare that:\n",
    "comparison = [elem1 == elem2 for elem1, elem2 in zip(drawing_labels, predicted_digits)]\n",
    "comparison"
   ]
  },
  {
   "cell_type": "code",
   "execution_count": 24,
   "id": "8d0c65ab-7d99-456b-950c-83b9de5231bf",
   "metadata": {},
   "outputs": [
    {
     "data": {
      "text/plain": [
       "'Ratio: 55% success'"
      ]
     },
     "execution_count": 24,
     "metadata": {},
     "output_type": "execute_result"
    }
   ],
   "source": [
    "ratio = comparison.count(True)/ len(comparison)\n",
    "f\"Ratio: {math.ceil(100 * ratio)}% success\""
   ]
  },
  {
   "cell_type": "markdown",
   "id": "4ce302b3-bc33-4dce-8971-c0c5b1e01964",
   "metadata": {},
   "source": [
    "Not too bad!"
   ]
  },
  {
   "cell_type": "code",
   "execution_count": null,
   "id": "d6f169ed-cedf-4003-ab0c-97708f3cf7ff",
   "metadata": {},
   "outputs": [],
   "source": []
  }
 ],
 "metadata": {
  "kernelspec": {
   "display_name": "Python 3 (ipykernel)",
   "language": "python",
   "name": "python3"
  },
  "language_info": {
   "codemirror_mode": {
    "name": "ipython",
    "version": 3
   },
   "file_extension": ".py",
   "mimetype": "text/x-python",
   "name": "python",
   "nbconvert_exporter": "python",
   "pygments_lexer": "ipython3",
   "version": "3.10.6"
  }
 },
 "nbformat": 4,
 "nbformat_minor": 5
}
