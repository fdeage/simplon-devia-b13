{
 "cells": [
  {
   "cell_type": "code",
   "execution_count": 1,
   "id": "2ecb5575-9e72-4824-bb8b-a3191b284270",
   "metadata": {},
   "outputs": [
    {
     "name": "stderr",
     "output_type": "stream",
     "text": [
      "2024-03-03 11:52:54.616815: I tensorflow/core/platform/cpu_feature_guard.cc:182] This TensorFlow binary is optimized to use available CPU instructions in performance-critical operations.\n",
      "To enable the following instructions: AVX2 FMA, in other operations, rebuild TensorFlow with the appropriate compiler flags.\n"
     ]
    }
   ],
   "source": [
    "from tensorflow.keras import layers, models, optimizers\n",
    "from tensorflow.keras.utils import to_categorical\n",
    "from emnist import extract_training_samples, list_datasets, extract_test_samples\n",
    "\n",
    "import matplotlib.pyplot as plt"
   ]
  },
  {
   "cell_type": "code",
   "execution_count": 30,
   "id": "a88c52c3-ba1e-4e5c-89fe-2c7f82277ef9",
   "metadata": {},
   "outputs": [
    {
     "data": {
      "text/plain": [
       "((124800, 28, 28), (124800,), (20800, 28, 28), (20800,))"
      ]
     },
     "execution_count": 30,
     "metadata": {},
     "output_type": "execute_result"
    }
   ],
   "source": [
    "# Download the training data from EMNIST\n",
    "(train_images, train_labels) = extract_training_samples(\"letters\")\n",
    "(test_images, test_labels) = extract_test_samples(\"letters\")\n",
    "\n",
    "train_images.shape, train_labels.shape, test_images.shape, test_labels.shape"
   ]
  },
  {
   "cell_type": "code",
   "execution_count": 31,
   "id": "d425ce78-de32-4ceb-9252-d3f00f362473",
   "metadata": {},
   "outputs": [
    {
     "data": {
      "text/plain": [
       "(28, 28)"
      ]
     },
     "execution_count": 31,
     "metadata": {},
     "output_type": "execute_result"
    }
   ],
   "source": [
    "# Let's see the shape of an image:\n",
    "train_images[327].shape"
   ]
  },
  {
   "cell_type": "code",
   "execution_count": 32,
   "id": "ca107d7c-fd83-4c78-a2b0-19f8d2a0f120",
   "metadata": {},
   "outputs": [
    {
     "data": {
      "image/png": "[encoded data removed]",
      "text/plain": [
       "<Figure size 640x480 with 1 Axes>"
      ]
     },
     "metadata": {},
     "output_type": "display_data"
    }
   ],
   "source": [
    "# Now let's plot the 327th sample to see what the raw image look like\n",
    "alphabet = \"ABCDEFGHIJKLMNOPQRSTUVWXYZ\"\n",
    "\n",
    "plt.plot()\n",
    "plt.title(f\"Label: {alphabet[train_labels[327] - 1]}\")\n",
    "plt.imshow((train_images[327]), cmap=plt.get_cmap('gray'))\n",
    "plt.show()"
   ]
  },
  {
   "cell_type": "code",
   "execution_count": 33,
   "id": "6b53067c-01ef-4ba3-9fb7-5f590e1b43f0",
   "metadata": {},
   "outputs": [
    {
     "data": {
      "text/plain": [
       "25"
      ]
     },
     "execution_count": 33,
     "metadata": {},
     "output_type": "execute_result"
    }
   ],
   "source": [
    "# Let's verify it matches the 327th label!\n",
    "train_labels[327]"
   ]
  },
  {
   "cell_type": "code",
   "execution_count": 34,
   "id": "79362705-5b71-4053-9d9c-9a53cbd60d15",
   "metadata": {},
   "outputs": [
    {
     "data": {
      "text/plain": [
       "(0, 255)"
      ]
     },
     "execution_count": 34,
     "metadata": {},
     "output_type": "execute_result"
    }
   ],
   "source": [
    "# Pixel values are black & white, and between 0 and 255\n",
    "train_images.min(), train_images.max()"
   ]
  },
  {
   "cell_type": "code",
   "execution_count": 35,
   "id": "0592d84a-d76a-44c7-b4aa-58cd7e749bf0",
   "metadata": {},
   "outputs": [
    {
     "data": {
      "text/plain": [
       "(0.0, 1.0)"
      ]
     },
     "execution_count": 35,
     "metadata": {},
     "output_type": "execute_result"
    }
   ],
   "source": [
    "# Let's normalize their values to be between 0 and 1\n",
    "train_images, test_images = train_images / 255, test_images / 255\n",
    "# Checking normalization: we should be between 0 and 1\n",
    "train_images.min(), train_images.max()"
   ]
  },
  {
   "cell_type": "code",
   "execution_count": 36,
   "id": "8d03ae04-2e5d-43cd-8029-bce673bcf6d9",
   "metadata": {},
   "outputs": [
    {
     "data": {
      "text/plain": [
       "(124800, 20800)"
      ]
     },
     "execution_count": 36,
     "metadata": {},
     "output_type": "execute_result"
    }
   ],
   "source": [
    "train_n = train_images.shape[0]\n",
    "test_n = test_images.shape[0]\n",
    "train_n, test_n"
   ]
  },
  {
   "cell_type": "code",
   "execution_count": 37,
   "id": "2167e285-6655-4c13-a8df-4eb10d268fb6",
   "metadata": {},
   "outputs": [
    {
     "data": {
      "text/plain": [
       "((124800, 28, 28, 1), (20800, 28, 28, 1))"
      ]
     },
     "execution_count": 37,
     "metadata": {},
     "output_type": "execute_result"
    }
   ],
   "source": [
    "train_images = train_images.reshape((train_n, 28, 28, 1))\n",
    "test_images = test_images.reshape((test_n, 28, 28, 1))\n",
    "train_images.shape, test_images.shape"
   ]
  },
  {
   "cell_type": "code",
   "execution_count": 38,
   "id": "42b3d55c-124c-497c-b31f-9108bf68820d",
   "metadata": {},
   "outputs": [
    {
     "data": {
      "text/plain": [
       "(26,\n",
       " array([ 1,  2,  3,  4,  5,  6,  7,  8,  9, 10, 11, 12, 13, 14, 15, 16, 17,\n",
       "        18, 19, 20, 21, 22, 23, 24, 25, 26], dtype=uint8),\n",
       " array([4800, 4800, 4800, 4800, 4800, 4800, 4800, 4800, 4800, 4800, 4800,\n",
       "        4800, 4800, 4800, 4800, 4800, 4800, 4800, 4800, 4800, 4800, 4800,\n",
       "        4800, 4800, 4800, 4800]))"
      ]
     },
     "execution_count": 38,
     "metadata": {},
     "output_type": "execute_result"
    }
   ],
   "source": [
    "# Let's find unique values in the labels\n",
    "import numpy as np\n",
    "\n",
    "values, counts = np.unique(train_labels, return_counts=True)\n",
    "nb_values = len(values)\n",
    "nb_values, values, counts"
   ]
  },
  {
   "cell_type": "code",
   "execution_count": 39,
   "id": "c791b259-e328-49d9-8081-0d69a510c6ff",
   "metadata": {},
   "outputs": [],
   "source": [
    "# One-hot encoding of the labels (5 -> [0, 0, 0, 0, 0, 1, ...])\n",
    "# cf. https://en.wikipedia.org/wiki/One-hot\n",
    "train_labels = to_categorical(train_labels)\n",
    "test_labels = to_categorical(test_labels)"
   ]
  },
  {
   "cell_type": "code",
   "execution_count": 40,
   "id": "01ce9e3a-1a0b-4e11-91d2-166cfe805be9",
   "metadata": {},
   "outputs": [
    {
     "data": {
      "text/plain": [
       "array([[0., 0., 0., ..., 0., 0., 0.],\n",
       "       [0., 0., 0., ..., 0., 0., 0.],\n",
       "       [0., 0., 0., ..., 0., 0., 0.],\n",
       "       ...,\n",
       "       [0., 0., 0., ..., 0., 0., 0.],\n",
       "       [0., 0., 0., ..., 0., 0., 0.],\n",
       "       [0., 0., 0., ..., 0., 0., 0.]], dtype=float32)"
      ]
     },
     "execution_count": 40,
     "metadata": {},
     "output_type": "execute_result"
    }
   ],
   "source": [
    "# Let's verify that labels are the proper shape: a list of list\n",
    "train_labels"
   ]
  },
  {
   "cell_type": "code",
   "execution_count": 41,
   "id": "ad4501db-57ad-4c7d-928f-70f8c27678df",
   "metadata": {},
   "outputs": [
    {
     "data": {
      "text/plain": [
       "(124800, 27)"
      ]
     },
     "execution_count": 41,
     "metadata": {},
     "output_type": "execute_result"
    }
   ],
   "source": [
    "train_labels.shape"
   ]
  },
  {
   "cell_type": "code",
   "execution_count": 42,
   "id": "ada8c170-48db-46d2-9fed-081dd15871ed",
   "metadata": {},
   "outputs": [],
   "source": [
    "def define_conv_model(conv_size=32):\n",
    "    model = models.Sequential()\n",
    "\n",
    "    model.add(layers.Conv2D(conv_size, (3, 3), activation='relu'))\n",
    "    model.add(layers.BatchNormalization())\n",
    "    model.add(layers.MaxPooling2D((2, 2)))\n",
    "\n",
    "    model.add(layers.Conv2D(conv_size * 2, (3, 3), activation='relu'))\n",
    "    model.add(layers.BatchNormalization())\n",
    "    model.add(layers.MaxPooling2D((2, 2)))\n",
    "\n",
    "    model.add(layers.Dropout(0.25))\n",
    "    \n",
    "    model.add(layers.Conv2D(conv_size * 4, (3, 3), activation='relu'))\n",
    "    model.add(layers.BatchNormalization())\n",
    "    model.add(layers.MaxPooling2D((2, 2)))\n",
    "       \n",
    "    model.add(layers.Flatten())\n",
    "    model.add(layers.Dense(nb_values + 1, activation='softmax'))\n",
    "\n",
    "    return model"
   ]
  },
  {
   "cell_type": "code",
   "execution_count": 43,
   "id": "0dd97beb-4174-4b03-8968-efdb4cd7ad49",
   "metadata": {},
   "outputs": [],
   "source": [
    "# Notes:\n",
    "#   - the 'sparse_categorical_crossentropy' loss is only for labels using integers, not for encoded labels like ours\n",
    "#   - we specify the optimizer instead of 'adam' to be able to change the learning rate\n",
    "#   - no need to return anything, the model is modified \"in-place\" \n",
    "def compile_model(model, learning_rate=0.003):\n",
    "    model.compile(optimizer=optimizers.Adam(learning_rate=learning_rate), loss='categorical_crossentropy', metrics=['accuracy'])"
   ]
  },
  {
   "cell_type": "code",
   "execution_count": 44,
   "id": "42cc02c0-ea27-4c88-8037-5af2960faca2",
   "metadata": {},
   "outputs": [],
   "source": [
    "# We parameterize the training so that parameters can be logged in MLFlow\n",
    "def train_model(model, train_images, train_labels, epochs=3, batch_size=64, validation_split=0.2):\n",
    "    model.fit(train_images, train_labels, epochs=epochs, batch_size=batch_size, validation_split=validation_split)"
   ]
  },
  {
   "cell_type": "code",
   "execution_count": 45,
   "id": "e3b368dc-92d5-44e6-a2fa-b7d69530f424",
   "metadata": {},
   "outputs": [
    {
     "data": {
      "text/plain": [
       "<Experiment: artifact_location='mlflow-artifacts:/247891186675966319', creation_time=1709463136235, experiment_id='247891186675966319', last_update_time=1709463136235, lifecycle_stage='active', name='Brief 13 - 2. EMNIST', tags={}>"
      ]
     },
     "execution_count": 45,
     "metadata": {},
     "output_type": "execute_result"
    }
   ],
   "source": [
    "import mlflow\n",
    "import os\n",
    "\n",
    "mlflow.set_tracking_uri(\"http://127.0.0.1:5000\")\n",
    "mlflow.set_experiment(\"Brief 13 - 2. EMNIST\")"
   ]
  },
  {
   "cell_type": "code",
   "execution_count": 46,
   "id": "d35accfd-0d6e-40aa-86c4-895a93832a04",
   "metadata": {},
   "outputs": [
    {
     "name": "stdout",
     "output_type": "stream",
     "text": [
      "26\n",
      "Epoch 1/3\n",
      "1560/1560 [==============================] - 32s 20ms/step - loss: 0.6303 - accuracy: 0.7990 - val_loss: 0.3947 - val_accuracy: 0.8714\n",
      "Epoch 2/3\n",
      "1560/1560 [==============================] - 32s 20ms/step - loss: 0.4153 - accuracy: 0.8632 - val_loss: 0.3658 - val_accuracy: 0.8849\n",
      "Epoch 3/3\n",
      "1560/1560 [==============================] - 39s 25ms/step - loss: 0.3773 - accuracy: 0.8745 - val_loss: 0.3275 - val_accuracy: 0.8912\n",
      "650/650 [==============================] - 5s 7ms/step - loss: 0.3216 - accuracy: 0.8919\n",
      "Loss: 0.32157889008522034, accuracy: 0.8918750286102295\n"
     ]
    }
   ],
   "source": [
    "import time\n",
    "\n",
    "with mlflow.start_run() as parent_run:\n",
    "    conv_size = 16\n",
    "    learning_rate = 0.004\n",
    "    epochs = 3\n",
    "    batch_size = 64\n",
    "\n",
    "    mlflow.log_param(\"conv_size\", conv_size)\n",
    "    mlflow.log_param(\"learning_rate\", learning_rate)\n",
    "    mlflow.log_param(\"epochs\", epochs)\n",
    "    mlflow.log_param(\"batch_size\", batch_size)\n",
    "    \n",
    "    model = define_conv_model(conv_size)\n",
    "    compile_model(model, learning_rate)\n",
    "    \n",
    "    # We time only time the training part\n",
    "    start_t = time.time()    \n",
    "    train_model(model, train_images, train_labels, epochs, batch_size)\n",
    "    end_t = time.time()\n",
    "\n",
    "    # Evaluate the model on the test set\n",
    "    loss, acc = model.evaluate(test_images, test_labels)\n",
    "    print(f'Loss: {loss}, accuracy: {acc}')\n",
    "    \n",
    "    mlflow.log_metric(\"loss\", loss)\n",
    "    mlflow.log_metric(\"accuracy\", acc)\n",
    "    mlflow.log_metric(\"training_duration\", end_t - start_t)  \n",
    "\n",
    "    mlflow.end_run()"
   ]
  },
  {
   "cell_type": "code",
   "execution_count": null,
   "id": "8cabf218-c8c0-4256-9a77-44971289c71c",
   "metadata": {},
   "outputs": [],
   "source": [
    "model.summary()"
   ]
  },
  {
   "cell_type": "code",
   "execution_count": null,
   "id": "81a0ee23-7896-45fd-92c2-932cff7033df",
   "metadata": {},
   "outputs": [],
   "source": []
  }
 ],
 "metadata": {
  "kernelspec": {
   "display_name": "Python 3 (ipykernel)",
   "language": "python",
   "name": "python3"
  },
  "language_info": {
   "codemirror_mode": {
    "name": "ipython",
    "version": 3
   },
   "file_extension": ".py",
   "mimetype": "text/x-python",
   "name": "python",
   "nbconvert_exporter": "python",
   "pygments_lexer": "ipython3",
   "version": "3.9.18"
  }
 },
 "nbformat": 4,
 "nbformat_minor": 5
}
