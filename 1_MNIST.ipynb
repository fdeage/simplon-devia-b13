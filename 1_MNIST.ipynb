{
 "cells": [
  {
   "cell_type": "code",
   "execution_count": 1,
   "id": "2ecb5575-9e72-4824-bb8b-a3191b284270",
   "metadata": {},
   "outputs": [
    {
     "name": "stderr",
     "output_type": "stream",
     "text": [
      "2024-03-22 23:08:11.908164: I tensorflow/core/platform/cpu_feature_guard.cc:182] This TensorFlow binary is optimized to use available CPU instructions in performance-critical operations.\n",
      "To enable the following instructions: AVX2 FMA, in other operations, rebuild TensorFlow with the appropriate compiler flags.\n"
     ]
    }
   ],
   "source": [
    "from tensorflow.keras import layers, models, optimizers\n",
    "from tensorflow.keras.datasets import mnist\n",
    "from tensorflow.keras.utils import to_categorical\n",
    "\n",
    "import matplotlib.pyplot as plt"
   ]
  },
  {
   "cell_type": "code",
   "execution_count": 2,
   "id": "a88c52c3-ba1e-4e5c-89fe-2c7f82277ef9",
   "metadata": {},
   "outputs": [
    {
     "data": {
      "text/plain": [
       "((60000, 28, 28), (60000,), (10000, 28, 28), (10000,))"
      ]
     },
     "execution_count": 2,
     "metadata": {},
     "output_type": "execute_result"
    }
   ],
   "source": [
    "# Download the training data from MNIST\n",
    "(train_images, train_labels), (test_images, test_labels) = mnist.load_data()\n",
    "train_images.shape, train_labels.shape, test_images.shape, test_labels.shape"
   ]
  },
  {
   "cell_type": "code",
   "execution_count": 3,
   "id": "fa0e0f64-c6b6-424f-b1d6-90cfd43663a9",
   "metadata": {},
   "outputs": [],
   "source": [
    "# Uncomment to reduce the size of the training set\n",
    "# train_images = train_images[:10000]\n",
    "# train_labels = train_labels[:10000]\n",
    "# train_images.shape, train_labels.shape, test_images.shape, test_labels.shape"
   ]
  },
  {
   "cell_type": "code",
   "execution_count": 4,
   "id": "d425ce78-de32-4ceb-9252-d3f00f362473",
   "metadata": {},
   "outputs": [
    {
     "data": {
      "text/plain": [
       "(28, 28)"
      ]
     },
     "execution_count": 4,
     "metadata": {},
     "output_type": "execute_result"
    }
   ],
   "source": [
    "# Let's see the shape of an image:\n",
    "train_images[327].shape"
   ]
  },
  {
   "cell_type": "code",
   "execution_count": 5,
   "id": "ca107d7c-fd83-4c78-a2b0-19f8d2a0f120",
   "metadata": {},
   "outputs": [
    {
     "data": {
      "image/png": "[encoded data removed]",
      "text/plain": [
       "<Figure size 640x480 with 1 Axes>"
      ]
     },
     "metadata": {},
     "output_type": "display_data"
    }
   ],
   "source": [
    "# Now let's plot the 327th sample to see what the raw image look like\n",
    "plt.plot()\n",
    "plt.title(f\"Label: {train_labels[327]}\")\n",
    "plt.imshow((train_images[327]), cmap=plt.get_cmap('gray'))\n",
    "plt.show()"
   ]
  },
  {
   "cell_type": "code",
   "execution_count": 6,
   "id": "6b53067c-01ef-4ba3-9fb7-5f590e1b43f0",
   "metadata": {},
   "outputs": [
    {
     "data": {
      "text/plain": [
       "3"
      ]
     },
     "execution_count": 6,
     "metadata": {},
     "output_type": "execute_result"
    }
   ],
   "source": [
    "# Let's verify it matches the 327th label!\n",
    "train_labels[327]"
   ]
  },
  {
   "cell_type": "code",
   "execution_count": 7,
   "id": "79362705-5b71-4053-9d9c-9a53cbd60d15",
   "metadata": {},
   "outputs": [
    {
     "data": {
      "text/plain": [
       "(0, 255)"
      ]
     },
     "execution_count": 7,
     "metadata": {},
     "output_type": "execute_result"
    }
   ],
   "source": [
    "# Pixel values are black & white, and between 0 and 255\n",
    "train_images.min(), train_images.max()"
   ]
  },
  {
   "cell_type": "code",
   "execution_count": 8,
   "id": "0592d84a-d76a-44c7-b4aa-58cd7e749bf0",
   "metadata": {},
   "outputs": [
    {
     "data": {
      "text/plain": [
       "(0.0, 1.0)"
      ]
     },
     "execution_count": 8,
     "metadata": {},
     "output_type": "execute_result"
    }
   ],
   "source": [
    "# Let's normalize their values to be between 0 and 1\n",
    "train_images, test_images = train_images / 255, test_images / 255\n",
    "# Checking normalization\n",
    "train_images.min(), train_images.max()"
   ]
  },
  {
   "cell_type": "code",
   "execution_count": 9,
   "id": "8d03ae04-2e5d-43cd-8029-bce673bcf6d9",
   "metadata": {},
   "outputs": [
    {
     "data": {
      "text/plain": [
       "(60000, 10000)"
      ]
     },
     "execution_count": 9,
     "metadata": {},
     "output_type": "execute_result"
    }
   ],
   "source": [
    "train_n = train_images.shape[0]\n",
    "test_n = test_images.shape[0]\n",
    "train_n, test_n"
   ]
  },
  {
   "cell_type": "code",
   "execution_count": 10,
   "id": "2167e285-6655-4c13-a8df-4eb10d268fb6",
   "metadata": {},
   "outputs": [
    {
     "data": {
      "text/plain": [
       "((60000, 28, 28, 1), (10000, 28, 28, 1))"
      ]
     },
     "execution_count": 10,
     "metadata": {},
     "output_type": "execute_result"
    }
   ],
   "source": [
    "# Now we reshape the images sets (add a 4th dimension) to be compatible with a CNN model\n",
    "train_images = train_images.reshape((train_n, 28, 28, 1))\n",
    "test_images = test_images.reshape((test_n, 28, 28, 1))\n",
    "train_images.shape, test_images.shape"
   ]
  },
  {
   "cell_type": "code",
   "execution_count": 11,
   "id": "6281bda2-df53-47fd-b4e9-83e3ade3fb92",
   "metadata": {},
   "outputs": [
    {
     "data": {
      "text/plain": [
       "10"
      ]
     },
     "execution_count": 11,
     "metadata": {},
     "output_type": "execute_result"
    }
   ],
   "source": [
    "# Let's find unique values in the labels\n",
    "import numpy as np\n",
    "nb_values = len(np.unique(train_labels))\n",
    "nb_values"
   ]
  },
  {
   "cell_type": "code",
   "execution_count": 12,
   "id": "c791b259-e328-49d9-8081-0d69a510c6ff",
   "metadata": {},
   "outputs": [],
   "source": [
    "# One-hot encoding of the labels (5 -> [0, 0, 0, 0, 0, 1, ...])\n",
    "# cf. https://en.wikipedia.org/wiki/One-hot\n",
    "train_labels = to_categorical(train_labels)\n",
    "test_labels = to_categorical(test_labels)"
   ]
  },
  {
   "cell_type": "code",
   "execution_count": 13,
   "id": "01ce9e3a-1a0b-4e11-91d2-166cfe805be9",
   "metadata": {},
   "outputs": [
    {
     "data": {
      "text/plain": [
       "array([[0., 0., 0., ..., 0., 0., 0.],\n",
       "       [1., 0., 0., ..., 0., 0., 0.],\n",
       "       [0., 0., 0., ..., 0., 0., 0.],\n",
       "       ...,\n",
       "       [0., 0., 0., ..., 0., 0., 0.],\n",
       "       [0., 0., 0., ..., 0., 0., 0.],\n",
       "       [0., 0., 0., ..., 0., 1., 0.]], dtype=float32)"
      ]
     },
     "execution_count": 13,
     "metadata": {},
     "output_type": "execute_result"
    }
   ],
   "source": [
    "# Let's verify that labels are now a 10-list of values\n",
    "train_labels"
   ]
  },
  {
   "cell_type": "code",
   "execution_count": 14,
   "id": "ad4501db-57ad-4c7d-928f-70f8c27678df",
   "metadata": {},
   "outputs": [
    {
     "data": {
      "text/plain": [
       "(60000, 10)"
      ]
     },
     "execution_count": 14,
     "metadata": {},
     "output_type": "execute_result"
    }
   ],
   "source": [
    "# Nice, a 60000 long list of 10-value lists\n",
    "train_labels.shape"
   ]
  },
  {
   "cell_type": "code",
   "execution_count": 39,
   "id": "ada8c170-48db-46d2-9fed-081dd15871ed",
   "metadata": {},
   "outputs": [],
   "source": [
    "# The MNIST dataset is very easy to model (best perf is ~99.7%!) so you shouldn't need\n",
    "# to have a very complicated neural net for this one: at the minimum, you need:\n",
    "#   - a Conv2D layer, ideally using ReLU\n",
    "#   - a Flatten() layer\n",
    "#   - a final Dense(...) layer\n",
    "def define_conv_model(conv_size=32):\n",
    "    model = models.Sequential()\n",
    "\n",
    "    model.add(layers.Conv2D(conv_size, (3, 3), input_shape=(28, 28, 1), activation='relu'))\n",
    "    # optimizes perf for whatever reason...\n",
    "    model.add(layers.BatchNormalization())\n",
    "    # also optimizes perf for whatever reason...\n",
    "    model.add(layers.MaxPooling2D((2, 2)))\n",
    "    model.add(layers.Dropout(0.2))\n",
    "    model.add(layers.Flatten())\n",
    "    # We would normally have a first dense layer here, but it's not needed for something as simple as the MNIST\n",
    "    # model.add(layers.Dense(128, activation='relu'))\n",
    "    model.add(layers.Dense(nb_values, activation='softmax'))\n",
    "\n",
    "    return model"
   ]
  },
  {
   "cell_type": "code",
   "execution_count": 40,
   "id": "0dd97beb-4174-4b03-8968-efdb4cd7ad49",
   "metadata": {},
   "outputs": [],
   "source": [
    "# Notes:\n",
    "#   - the 'sparse_categorical_crossentropy' loss is only for labels using integers\n",
    "#   - we specify the optimizer instead of 'adam' to be able to change the learning rate\n",
    "#   - no need to return anything, the model is modified \"in-place\" \n",
    "def compile_model(model, learning_rate=0.003):\n",
    "    model.compile(optimizer=optimizers.Adam(learning_rate=learning_rate), loss='categorical_crossentropy', metrics=['accuracy'])"
   ]
  },
  {
   "cell_type": "code",
   "execution_count": 41,
   "id": "42cc02c0-ea27-4c88-8037-5af2960faca2",
   "metadata": {},
   "outputs": [],
   "source": [
    "# We parameterize the training so that parameters can be logged in MLFlow\n",
    "def train_model(model, train_images, train_labels, epochs=3, batch_size=64, validation_split=0.2):\n",
    "    model.fit(train_images, train_labels, epochs=epochs, batch_size=batch_size, validation_split=validation_split)"
   ]
  },
  {
   "cell_type": "code",
   "execution_count": 42,
   "id": "e833fe93-300c-4f19-84c0-a90a80f3c165",
   "metadata": {},
   "outputs": [
    {
     "data": {
      "text/plain": [
       "<Experiment: artifact_location='mlflow-artifacts:/540838423398902132', creation_time=1709463356443, experiment_id='540838423398902132', last_update_time=1709463356443, lifecycle_stage='active', name='Brief 13 - 1. MNIST', tags={}>"
      ]
     },
     "execution_count": 42,
     "metadata": {},
     "output_type": "execute_result"
    }
   ],
   "source": [
    "import mlflow\n",
    "\n",
    "mlflow.set_tracking_uri(\"http://127.0.0.1:5000\")\n",
    "# mlflow.set_tracking_uri(\"http://192.168.0.153:5000\")\n",
    "mlflow.set_experiment(\"Brief 13 - 1. MNIST\")"
   ]
  },
  {
   "cell_type": "code",
   "execution_count": 43,
   "id": "d35accfd-0d6e-40aa-86c4-895a93832a04",
   "metadata": {},
   "outputs": [
    {
     "name": "stdout",
     "output_type": "stream",
     "text": [
      "Epoch 1/3\n",
      "750/750 [==============================] - 12s 16ms/step - loss: 0.1832 - accuracy: 0.9448 - val_loss: 0.0892 - val_accuracy: 0.9741\n",
      "Epoch 2/3\n",
      "750/750 [==============================] - 11s 15ms/step - loss: 0.0875 - accuracy: 0.9727 - val_loss: 0.1106 - val_accuracy: 0.9692\n",
      "Epoch 3/3\n",
      "750/750 [==============================] - 11s 15ms/step - loss: 0.0674 - accuracy: 0.9786 - val_loss: 0.0809 - val_accuracy: 0.9763\n",
      "313/313 [==============================] - 1s 4ms/step - loss: 0.0663 - accuracy: 0.9793\n",
      "Loss: 0.06626111268997192, accuracy: 0.9793000221252441\n"
     ]
    }
   ],
   "source": [
    "import time\n",
    "\n",
    "with mlflow.start_run():\n",
    "    conv_size = 16\n",
    "    learning_rate = 0.004\n",
    "    epochs = 3\n",
    "    batch_size = 64\n",
    "\n",
    "    mlflow.log_param(\"conv_size\", conv_size)\n",
    "    mlflow.log_param(\"learning_rate\", learning_rate)\n",
    "    mlflow.log_param(\"epochs\", epochs)\n",
    "    mlflow.log_param(\"batch_size\", batch_size)\n",
    "\n",
    "    mlflow.set_tag(\"Divers\", \"Yolo\")\n",
    "    \n",
    "    model = define_conv_model(conv_size)\n",
    "    compile_model(model, learning_rate)\n",
    "    \n",
    "    # We time only time the training part\n",
    "    start_t = time.time()    \n",
    "    train_model(model, train_images, train_labels, epochs, batch_size)\n",
    "    end_t = time.time()\n",
    "\n",
    "    # Evaluate the model on the test set\n",
    "    loss, acc = model.evaluate(test_images, test_labels)\n",
    "    print(f'Loss: {loss}, accuracy: {acc}')\n",
    "    \n",
    "    mlflow.log_metric(\"loss\", loss)\n",
    "    mlflow.log_metric(\"accuracy\", acc)\n",
    "    mlflow.log_metric(\"training_duration\", end_t - start_t)  \n",
    "\n",
    "    mlflow.log_artifacts(\"model_MNIST\", artifact_path=\"models\")"
   ]
  },
  {
   "cell_type": "code",
   "execution_count": 44,
   "id": "8cabf218-c8c0-4256-9a77-44971289c71c",
   "metadata": {},
   "outputs": [
    {
     "name": "stdout",
     "output_type": "stream",
     "text": [
      "Model: \"sequential_3\"\n",
      "_________________________________________________________________\n",
      " Layer (type)                Output Shape              Param #   \n",
      "=================================================================\n",
      " conv2d_3 (Conv2D)           (None, 26, 26, 16)        160       \n",
      "                                                                 \n",
      " batch_normalization_3 (Bat  (None, 26, 26, 16)        64        \n",
      " chNormalization)                                                \n",
      "                                                                 \n",
      " max_pooling2d_3 (MaxPoolin  (None, 13, 13, 16)        0         \n",
      " g2D)                                                            \n",
      "                                                                 \n",
      " dropout_1 (Dropout)         (None, 13, 13, 16)        0         \n",
      "                                                                 \n",
      " flatten_2 (Flatten)         (None, 2704)              0         \n",
      "                                                                 \n",
      " dense_3 (Dense)             (None, 10)                27050     \n",
      "                                                                 \n",
      "=================================================================\n",
      "Total params: 27274 (106.54 KB)\n",
      "Trainable params: 27242 (106.41 KB)\n",
      "Non-trainable params: 32 (128.00 Byte)\n",
      "_________________________________________________________________\n"
     ]
    }
   ],
   "source": [
    "model.summary()"
   ]
  },
  {
   "cell_type": "code",
   "execution_count": 53,
   "id": "e8f725df-ffa0-4b2e-a008-50c2238ffdf2",
   "metadata": {},
   "outputs": [],
   "source": [
    "# Save model for part III\n",
    "model.save('model_mnist.keras')"
   ]
  },
  {
   "cell_type": "code",
   "execution_count": null,
   "id": "7cabf579-abc1-4ee3-8297-2f647ec5a5d4",
   "metadata": {},
   "outputs": [],
   "source": []
  }
 ],
 "metadata": {
  "kernelspec": {
   "display_name": "Python 3 (ipykernel)",
   "language": "python",
   "name": "python3"
  },
  "language_info": {
   "codemirror_mode": {
    "name": "ipython",
    "version": 3
   },
   "file_extension": ".py",
   "mimetype": "text/x-python",
   "name": "python",
   "nbconvert_exporter": "python",
   "pygments_lexer": "ipython3",
   "version": "3.10.6"
  }
 },
 "nbformat": 4,
 "nbformat_minor": 5
}
